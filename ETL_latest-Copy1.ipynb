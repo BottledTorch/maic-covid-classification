{
 "cells": [
  {
   "cell_type": "code",
   "execution_count": null,
   "id": "b98b5696",
   "metadata": {},
   "outputs": [],
   "source": []
  },
  {
   "cell_type": "code",
   "execution_count": 1,
   "id": "eaa4e837",
   "metadata": {},
   "outputs": [
    {
     "name": "stderr",
     "output_type": "stream",
     "text": [
      "2024-02-05 20:33:58.429794: I tensorflow/core/util/port.cc:110] oneDNN custom operations are on. You may see slightly different numerical results due to floating-point round-off errors from different computation orders. To turn them off, set the environment variable `TF_ENABLE_ONEDNN_OPTS=0`.\n",
      "2024-02-05 20:33:58.476951: I tensorflow/core/platform/cpu_feature_guard.cc:183] This TensorFlow binary is optimized to use available CPU instructions in performance-critical operations.\n",
      "To enable the following instructions: SSE3 SSE4.1 SSE4.2 AVX, in other operations, rebuild TensorFlow with the appropriate compiler flags.\n"
     ]
    }
   ],
   "source": [
    "import numpy as np\n",
    "import pandas as pd\n",
    "import os\n",
    "import matplotlib.pyplot as plt\n",
    "import matplotlib.image as mpimg\n",
    "import cv2\n",
    "import imagesize\n",
    "import concurrent.futures\n",
    "import tensorflow as tf\n",
    "import os\n",
    "import time\n",
    "\n",
    "\n",
    "import torchxrayvision as xrv\n",
    "import skimage, torch, torchvision\n",
    "import numpy as np\n",
    "import skimage\n",
    "import torch\n",
    "import torchvision\n",
    "import matplotlib.pyplot as plt\n",
    "import torchxrayvision as xrv\n",
    "\n",
    "from PIL import Image\n",
    "from pathlib import Path\n"
   ]
  },
  {
   "cell_type": "markdown",
   "id": "a3b41681",
   "metadata": {},
   "source": [
    "## Setting up DataFrames"
   ]
  },
  {
   "cell_type": "code",
   "execution_count": 24,
   "id": "a9bfe6e6",
   "metadata": {},
   "outputs": [],
   "source": [
    "test_df = pd.read_csv('test.txt', header=None)\n",
    "train_df = pd.read_csv('train.txt', header=None)\n",
    "validation_df = pd.read_csv('val.txt', header=None)\n",
    "\n",
    "split_function = lambda df: df[0].str.split(' ', expand=True)\n",
    "rename_function = lambda df: df.rename(columns={0: \"test_id\", 1: 'filename', 2: 'test_result', 3: 'data_source'}, inplace=False)\n",
    "\n",
    "test_df = rename_function(split_function(test_df))\n",
    "train_df = rename_function(split_function(train_df))\n",
    "validation_df = rename_function(split_function(validation_df))\n",
    "\n",
    "# all_df = [test_df, train_df, validation_df]"
   ]
  },
  {
   "cell_type": "code",
   "execution_count": 25,
   "id": "f2f4f5f1",
   "metadata": {},
   "outputs": [
    {
     "data": {
      "text/html": [
       "<div>\n",
       "<style scoped>\n",
       "    .dataframe tbody tr th:only-of-type {\n",
       "        vertical-align: middle;\n",
       "    }\n",
       "\n",
       "    .dataframe tbody tr th {\n",
       "        vertical-align: top;\n",
       "    }\n",
       "\n",
       "    .dataframe thead th {\n",
       "        text-align: right;\n",
       "    }\n",
       "</style>\n",
       "<table border=\"1\" class=\"dataframe\">\n",
       "  <thead>\n",
       "    <tr style=\"text-align: right;\">\n",
       "      <th></th>\n",
       "      <th>test_id</th>\n",
       "      <th>filename</th>\n",
       "      <th>test_result</th>\n",
       "      <th>data_source</th>\n",
       "      <th>full_filepath</th>\n",
       "      <th>x_shape</th>\n",
       "      <th>y_shape</th>\n",
       "      <th>x_shape</th>\n",
       "      <th>y_shape</th>\n",
       "    </tr>\n",
       "  </thead>\n",
       "  <tbody>\n",
       "    <tr>\n",
       "      <th>0</th>\n",
       "      <td>419639-003251</td>\n",
       "      <td>MIDRC-RICORD-1C-419639-003251-46647-0.png</td>\n",
       "      <td>positive</td>\n",
       "      <td>ricord</td>\n",
       "      <td>test/MIDRC-RICORD-1C-419639-003251-46647-0.png</td>\n",
       "      <td>1024</td>\n",
       "      <td>826</td>\n",
       "      <td>1024</td>\n",
       "      <td>826</td>\n",
       "    </tr>\n",
       "    <tr>\n",
       "      <th>1</th>\n",
       "      <td>419639-001464</td>\n",
       "      <td>MIDRC-RICORD-1C-419639-001464-39871-0.png</td>\n",
       "      <td>positive</td>\n",
       "      <td>ricord</td>\n",
       "      <td>test/MIDRC-RICORD-1C-419639-001464-39871-0.png</td>\n",
       "      <td>1024</td>\n",
       "      <td>790</td>\n",
       "      <td>1024</td>\n",
       "      <td>790</td>\n",
       "    </tr>\n",
       "    <tr>\n",
       "      <th>2</th>\n",
       "      <td>419639-000918</td>\n",
       "      <td>MIDRC-RICORD-1C-419639-000918-78965-0.png</td>\n",
       "      <td>positive</td>\n",
       "      <td>ricord</td>\n",
       "      <td>test/MIDRC-RICORD-1C-419639-000918-78965-0.png</td>\n",
       "      <td>1024</td>\n",
       "      <td>851</td>\n",
       "      <td>1024</td>\n",
       "      <td>851</td>\n",
       "    </tr>\n",
       "    <tr>\n",
       "      <th>3</th>\n",
       "      <td>419639-003318</td>\n",
       "      <td>MIDRC-RICORD-1C-419639-003318-64285-0.png</td>\n",
       "      <td>positive</td>\n",
       "      <td>ricord</td>\n",
       "      <td>test/MIDRC-RICORD-1C-419639-003318-64285-0.png</td>\n",
       "      <td>1024</td>\n",
       "      <td>851</td>\n",
       "      <td>1024</td>\n",
       "      <td>851</td>\n",
       "    </tr>\n",
       "    <tr>\n",
       "      <th>4</th>\n",
       "      <td>419639-001015</td>\n",
       "      <td>MIDRC-RICORD-1C-419639-001015-81591-0.png</td>\n",
       "      <td>positive</td>\n",
       "      <td>ricord</td>\n",
       "      <td>test/MIDRC-RICORD-1C-419639-001015-81591-0.png</td>\n",
       "      <td>1024</td>\n",
       "      <td>791</td>\n",
       "      <td>1024</td>\n",
       "      <td>791</td>\n",
       "    </tr>\n",
       "  </tbody>\n",
       "</table>\n",
       "</div>"
      ],
      "text/plain": [
       "         test_id                                   filename test_result  \\\n",
       "0  419639-003251  MIDRC-RICORD-1C-419639-003251-46647-0.png    positive   \n",
       "1  419639-001464  MIDRC-RICORD-1C-419639-001464-39871-0.png    positive   \n",
       "2  419639-000918  MIDRC-RICORD-1C-419639-000918-78965-0.png    positive   \n",
       "3  419639-003318  MIDRC-RICORD-1C-419639-003318-64285-0.png    positive   \n",
       "4  419639-001015  MIDRC-RICORD-1C-419639-001015-81591-0.png    positive   \n",
       "\n",
       "  data_source                                   full_filepath  x_shape  \\\n",
       "0      ricord  test/MIDRC-RICORD-1C-419639-003251-46647-0.png     1024   \n",
       "1      ricord  test/MIDRC-RICORD-1C-419639-001464-39871-0.png     1024   \n",
       "2      ricord  test/MIDRC-RICORD-1C-419639-000918-78965-0.png     1024   \n",
       "3      ricord  test/MIDRC-RICORD-1C-419639-003318-64285-0.png     1024   \n",
       "4      ricord  test/MIDRC-RICORD-1C-419639-001015-81591-0.png     1024   \n",
       "\n",
       "   y_shape  x_shape  y_shape  \n",
       "0      826     1024      826  \n",
       "1      790     1024      790  \n",
       "2      851     1024      851  \n",
       "3      851     1024      851  \n",
       "4      791     1024      791  "
      ]
     },
     "execution_count": 25,
     "metadata": {},
     "output_type": "execute_result"
    }
   ],
   "source": [
    "validaton_df.head()"
   ]
  },
  {
   "cell_type": "code",
   "execution_count": 26,
   "id": "1d0e5117",
   "metadata": {},
   "outputs": [],
   "source": [
    "create_filepath = lambda df, dir_name: df.assign(full_filepath=df.apply(lambda row: os.path.join(dir_name, row.filename), axis=1))\n",
    "\n",
    "test_df = create_filepath(test_df, \"test\")\n",
    "train_df = create_filepath(train_df, \"train\")\n",
    "validation_df = create_filepath(validation_df, \"val\")"
   ]
  },
  {
   "cell_type": "code",
   "execution_count": 27,
   "id": "03883d3b",
   "metadata": {},
   "outputs": [
    {
     "data": {
      "text/html": [
       "<div>\n",
       "<style scoped>\n",
       "    .dataframe tbody tr th:only-of-type {\n",
       "        vertical-align: middle;\n",
       "    }\n",
       "\n",
       "    .dataframe tbody tr th {\n",
       "        vertical-align: top;\n",
       "    }\n",
       "\n",
       "    .dataframe thead th {\n",
       "        text-align: right;\n",
       "    }\n",
       "</style>\n",
       "<table border=\"1\" class=\"dataframe\">\n",
       "  <thead>\n",
       "    <tr style=\"text-align: right;\">\n",
       "      <th></th>\n",
       "      <th>test_id</th>\n",
       "      <th>filename</th>\n",
       "      <th>test_result</th>\n",
       "      <th>data_source</th>\n",
       "      <th>full_filepath</th>\n",
       "    </tr>\n",
       "  </thead>\n",
       "  <tbody>\n",
       "    <tr>\n",
       "      <th>0</th>\n",
       "      <td>419639-003251</td>\n",
       "      <td>MIDRC-RICORD-1C-419639-003251-46647-0.png</td>\n",
       "      <td>positive</td>\n",
       "      <td>ricord</td>\n",
       "      <td>test/MIDRC-RICORD-1C-419639-003251-46647-0.png</td>\n",
       "    </tr>\n",
       "    <tr>\n",
       "      <th>1</th>\n",
       "      <td>419639-001464</td>\n",
       "      <td>MIDRC-RICORD-1C-419639-001464-39871-0.png</td>\n",
       "      <td>positive</td>\n",
       "      <td>ricord</td>\n",
       "      <td>test/MIDRC-RICORD-1C-419639-001464-39871-0.png</td>\n",
       "    </tr>\n",
       "    <tr>\n",
       "      <th>2</th>\n",
       "      <td>419639-000918</td>\n",
       "      <td>MIDRC-RICORD-1C-419639-000918-78965-0.png</td>\n",
       "      <td>positive</td>\n",
       "      <td>ricord</td>\n",
       "      <td>test/MIDRC-RICORD-1C-419639-000918-78965-0.png</td>\n",
       "    </tr>\n",
       "    <tr>\n",
       "      <th>3</th>\n",
       "      <td>419639-003318</td>\n",
       "      <td>MIDRC-RICORD-1C-419639-003318-64285-0.png</td>\n",
       "      <td>positive</td>\n",
       "      <td>ricord</td>\n",
       "      <td>test/MIDRC-RICORD-1C-419639-003318-64285-0.png</td>\n",
       "    </tr>\n",
       "    <tr>\n",
       "      <th>4</th>\n",
       "      <td>419639-001015</td>\n",
       "      <td>MIDRC-RICORD-1C-419639-001015-81591-0.png</td>\n",
       "      <td>positive</td>\n",
       "      <td>ricord</td>\n",
       "      <td>test/MIDRC-RICORD-1C-419639-001015-81591-0.png</td>\n",
       "    </tr>\n",
       "  </tbody>\n",
       "</table>\n",
       "</div>"
      ],
      "text/plain": [
       "         test_id                                   filename test_result  \\\n",
       "0  419639-003251  MIDRC-RICORD-1C-419639-003251-46647-0.png    positive   \n",
       "1  419639-001464  MIDRC-RICORD-1C-419639-001464-39871-0.png    positive   \n",
       "2  419639-000918  MIDRC-RICORD-1C-419639-000918-78965-0.png    positive   \n",
       "3  419639-003318  MIDRC-RICORD-1C-419639-003318-64285-0.png    positive   \n",
       "4  419639-001015  MIDRC-RICORD-1C-419639-001015-81591-0.png    positive   \n",
       "\n",
       "  data_source                                   full_filepath  \n",
       "0      ricord  test/MIDRC-RICORD-1C-419639-003251-46647-0.png  \n",
       "1      ricord  test/MIDRC-RICORD-1C-419639-001464-39871-0.png  \n",
       "2      ricord  test/MIDRC-RICORD-1C-419639-000918-78965-0.png  \n",
       "3      ricord  test/MIDRC-RICORD-1C-419639-003318-64285-0.png  \n",
       "4      ricord  test/MIDRC-RICORD-1C-419639-001015-81591-0.png  "
      ]
     },
     "execution_count": 27,
     "metadata": {},
     "output_type": "execute_result"
    }
   ],
   "source": [
    "test_df.head()"
   ]
  },
  {
   "cell_type": "code",
   "execution_count": null,
   "id": "0c514301",
   "metadata": {},
   "outputs": [],
   "source": []
  },
  {
   "cell_type": "markdown",
   "id": "43dce081",
   "metadata": {},
   "source": [
    "### Enriching"
   ]
  },
  {
   "cell_type": "code",
   "execution_count": 28,
   "id": "2d06efde",
   "metadata": {},
   "outputs": [],
   "source": [
    "# THIS TAKES A HOT MINUTE\n",
    "\n",
    "# Define the function to add dimensions to a single row\n",
    "def add_image_dimensions(row):\n",
    "    width, height = imagesize.get(row.full_filepath)\n",
    "    return pd.Series([width, height], index=['x_shape', 'y_shape'])\n",
    "\n",
    "# Function to process a single dataframe\n",
    "def process_dataframe(df):\n",
    "    dimensions = df.apply(add_image_dimensions, axis=1)\n",
    "    return pd.concat([df, dimensions], axis=1)"
   ]
  },
  {
   "cell_type": "code",
   "execution_count": 29,
   "id": "50b93ab1",
   "metadata": {},
   "outputs": [],
   "source": [
    "test_df = process_dataframe(test_df)\n",
    "train_df = process_dataframe(train_df)\n",
    "validation_df = process_dataframe(validation_df)"
   ]
  },
  {
   "cell_type": "code",
   "execution_count": 30,
   "id": "a88615e9",
   "metadata": {},
   "outputs": [
    {
     "data": {
      "text/html": [
       "<div>\n",
       "<style scoped>\n",
       "    .dataframe tbody tr th:only-of-type {\n",
       "        vertical-align: middle;\n",
       "    }\n",
       "\n",
       "    .dataframe tbody tr th {\n",
       "        vertical-align: top;\n",
       "    }\n",
       "\n",
       "    .dataframe thead th {\n",
       "        text-align: right;\n",
       "    }\n",
       "</style>\n",
       "<table border=\"1\" class=\"dataframe\">\n",
       "  <thead>\n",
       "    <tr style=\"text-align: right;\">\n",
       "      <th></th>\n",
       "      <th>test_id</th>\n",
       "      <th>filename</th>\n",
       "      <th>test_result</th>\n",
       "      <th>data_source</th>\n",
       "      <th>full_filepath</th>\n",
       "      <th>x_shape</th>\n",
       "      <th>y_shape</th>\n",
       "    </tr>\n",
       "  </thead>\n",
       "  <tbody>\n",
       "    <tr>\n",
       "      <th>0</th>\n",
       "      <td>ANON196</td>\n",
       "      <td>CR.1.2.840.113564.1722810170.20200318082923328...</td>\n",
       "      <td>positive</td>\n",
       "      <td>actmed</td>\n",
       "      <td>val/CR.1.2.840.113564.1722810170.2020031808292...</td>\n",
       "      <td>1024</td>\n",
       "      <td>808</td>\n",
       "    </tr>\n",
       "    <tr>\n",
       "      <th>1</th>\n",
       "      <td>ANON170</td>\n",
       "      <td>CR.1.2.840.113564.1722810170.20200320011259312...</td>\n",
       "      <td>positive</td>\n",
       "      <td>actmed</td>\n",
       "      <td>val/CR.1.2.840.113564.1722810170.2020032001125...</td>\n",
       "      <td>1024</td>\n",
       "      <td>842</td>\n",
       "    </tr>\n",
       "    <tr>\n",
       "      <th>2</th>\n",
       "      <td>S03044</td>\n",
       "      <td>sub-S03044_ses-E06138_run-1_bp-chest_vp-ap_cr-...</td>\n",
       "      <td>positive</td>\n",
       "      <td>bimcv</td>\n",
       "      <td>val/sub-S03044_ses-E06138_run-1_bp-chest_vp-ap...</td>\n",
       "      <td>1024</td>\n",
       "      <td>842</td>\n",
       "    </tr>\n",
       "    <tr>\n",
       "      <th>3</th>\n",
       "      <td>S03044</td>\n",
       "      <td>sub-S03044_ses-E07712_run-1_bp-chest_vp-ap_cr-...</td>\n",
       "      <td>positive</td>\n",
       "      <td>bimcv</td>\n",
       "      <td>val/sub-S03044_ses-E07712_run-1_bp-chest_vp-ap...</td>\n",
       "      <td>1024</td>\n",
       "      <td>842</td>\n",
       "    </tr>\n",
       "    <tr>\n",
       "      <th>4</th>\n",
       "      <td>S03044</td>\n",
       "      <td>sub-S03044_ses-E06790_run-1_bp-chest_vp-pa_dx-...</td>\n",
       "      <td>positive</td>\n",
       "      <td>bimcv</td>\n",
       "      <td>val/sub-S03044_ses-E06790_run-1_bp-chest_vp-pa...</td>\n",
       "      <td>1024</td>\n",
       "      <td>843</td>\n",
       "    </tr>\n",
       "  </tbody>\n",
       "</table>\n",
       "</div>"
      ],
      "text/plain": [
       "   test_id                                           filename test_result  \\\n",
       "0  ANON196  CR.1.2.840.113564.1722810170.20200318082923328...    positive   \n",
       "1  ANON170  CR.1.2.840.113564.1722810170.20200320011259312...    positive   \n",
       "2   S03044  sub-S03044_ses-E06138_run-1_bp-chest_vp-ap_cr-...    positive   \n",
       "3   S03044  sub-S03044_ses-E07712_run-1_bp-chest_vp-ap_cr-...    positive   \n",
       "4   S03044  sub-S03044_ses-E06790_run-1_bp-chest_vp-pa_dx-...    positive   \n",
       "\n",
       "  data_source                                      full_filepath  x_shape  \\\n",
       "0      actmed  val/CR.1.2.840.113564.1722810170.2020031808292...     1024   \n",
       "1      actmed  val/CR.1.2.840.113564.1722810170.2020032001125...     1024   \n",
       "2       bimcv  val/sub-S03044_ses-E06138_run-1_bp-chest_vp-ap...     1024   \n",
       "3       bimcv  val/sub-S03044_ses-E07712_run-1_bp-chest_vp-ap...     1024   \n",
       "4       bimcv  val/sub-S03044_ses-E06790_run-1_bp-chest_vp-pa...     1024   \n",
       "\n",
       "   y_shape  \n",
       "0      808  \n",
       "1      842  \n",
       "2      842  \n",
       "3      842  \n",
       "4      843  "
      ]
     },
     "execution_count": 30,
     "metadata": {},
     "output_type": "execute_result"
    }
   ],
   "source": [
    "validation_df.head()"
   ]
  },
  {
   "cell_type": "code",
   "execution_count": 31,
   "id": "350c6b38",
   "metadata": {},
   "outputs": [
    {
     "name": "stdout",
     "output_type": "stream",
     "text": [
      "Setting XRayResizer engine to cv2 could increase performance.\n"
     ]
    }
   ],
   "source": [
    "def to_shape(a, y_, x_):\n",
    "    a = tf.squeeze(a)\n",
    "    y, x = a.shape\n",
    "    y_pad = (y_-y)\n",
    "    x_pad = (x_-x)\n",
    "    return np.pad(a,((y_pad//2, y_pad//2 + y_pad%2), \n",
    "                     (x_pad//2, x_pad//2 + x_pad%2)),\n",
    "                  mode = 'constant')\n",
    "\n",
    "# Initialize the model\n",
    "model = xrv.baseline_models.chestx_det.PSPNet()\n",
    "\n",
    "# Define the transformation\n",
    "transform = torchvision.transforms.Compose([xrv.datasets.XRayCenterCrop(), xrv.datasets.XRayResizer(512)])"
   ]
  },
  {
   "cell_type": "code",
   "execution_count": 45,
   "id": "8ec90cd0",
   "metadata": {},
   "outputs": [],
   "source": [
    "# Define the function to process an individual image\n",
    "def process_image(img_path, save_folder):\n",
    "    # Read and process the image\n",
    "    img = skimage.io.imread(img_path)\n",
    "    img = xrv.datasets.normalize(img, 255)\n",
    "    if img.ndim == 2:\n",
    "        img = img[None, ...]\n",
    "    elif img.ndim == 3:\n",
    "        img = img.mean(2)[None, ...]\n",
    "\n",
    "    img = transform(img)\n",
    "    img_tensor = torch.from_numpy(img)\n",
    "    \n",
    "    # Get the model prediction\n",
    "    with torch.no_grad():\n",
    "        pred = model(img_tensor)\n",
    "\n",
    "    # Process the prediction\n",
    "    pred = 1 / (1 + np.exp(-pred))\n",
    "    pred[pred < 0.5] = 0\n",
    "    pred[pred >= 0.5] = 1\n",
    "    \n",
    "    lung_mask = pred[0, 0]  # Adjust this index based on how your model outputs the prediction\n",
    "\n",
    "    # Find the indices where lung_mask is 1\n",
    "    lung_indices = np.where(lung_mask == 1)\n",
    "    \n",
    "    right_lung_index = model.targets.index('Right Lung')\n",
    "    left_lung_index = model.targets.index('Left Lung')\n",
    "    \n",
    "    \n",
    "    # Pull out just the lung pixels that we care about, using a logical or\n",
    "    segmented_lungs_prediction = np.logical_or(pred[0,left_lung_index], pred[0,right_lung_index])\n",
    "    \n",
    "    # Map this back onto the original image\n",
    "    segmented_lungs = segmented_lungs_prediction*img\n",
    "        \n",
    "    padded_segmented_lungs = to_shape(segmented_lungs, max_y, max_x)\n",
    "    \n",
    "    im_path, _ = os.path.splitext(img_path)\n",
    "\n",
    "    file_name = f'{save_folder}/{im_path}'\n",
    "    np.save(file_name, padded_segmented_lungs)\n",
    "    \n",
    "    return None\n",
    "\n",
    "#     # Calculate the extents\n",
    "#     top_extent = np.min(lung_indices[0]) if lung_indices[0].size > 0 else None\n",
    "#     bottom_extent = np.max(lung_indices[0]) if lung_indices[0].size > 0 else None\n",
    "#     left_extent = np.min(lung_indices[1]) if lung_indices[1].size > 0 else None\n",
    "#     right_extent = np.max(lung_indices[1]) if lung_indices[1].size > 0 else None\n",
    "    \n",
    "#     # Find the center x,y of the lungs\n",
    "#     center_x = right_extent-left_extent\n",
    "#     center_y = bottom_extent-top_extent\n",
    "\n",
    "#     return left_extent, right_extent, top_extent, bottom_extent\n",
    "\n",
    "# Define the function to process a single dataframe\n",
    "def process_dataframe(df, save_folder):\n",
    "    # Apply the image processing to each row\n",
    "    df['full_filepath'].apply(lambda x: process_image(x, save_folder))\n",
    "\n"
   ]
  },
  {
   "cell_type": "code",
   "execution_count": 46,
   "id": "3436e109",
   "metadata": {},
   "outputs": [],
   "source": [
    "max_x = max(test_df['x_shape'].max(), train_df['x_shape'].max(), validation_df['x_shape'].max())\n",
    "max_y = max(test_df['y_shape'].max(), train_df['y_shape'].max(), validation_df['y_shape'].max())"
   ]
  },
  {
   "cell_type": "code",
   "execution_count": 52,
   "id": "c317a1c2",
   "metadata": {
    "scrolled": false
   },
   "outputs": [
    {
     "name": "stdout",
     "output_type": "stream",
     "text": [
      "12.644643306732178\n"
     ]
    }
   ],
   "source": [
    "\n",
    "# TODO: Check to make sure this works\n",
    "# Process each dataframe\n",
    "start = time.time()\n",
    "# all_df_processed = [process_dataframe(df) for df in all_df]\n",
    "process_dataframe(validation_df.head(10), 'etl_output')\n",
    "print(time.time() - start)"
   ]
  },
  {
   "cell_type": "code",
   "execution_count": null,
   "id": "5ebc04dd",
   "metadata": {},
   "outputs": [],
   "source": [
    "#print(df.describe())"
   ]
  },
  {
   "cell_type": "code",
   "execution_count": 53,
   "id": "85150d03",
   "metadata": {},
   "outputs": [],
   "source": [
    "data = np.load('etl_output/val/sub-S03044_ses-E06790_run-1_bp-chest_vp-pa_dx-corrected.npy')"
   ]
  },
  {
   "cell_type": "code",
   "execution_count": 54,
   "id": "cb0205e0",
   "metadata": {},
   "outputs": [
    {
     "data": {
      "text/plain": [
       "<matplotlib.image.AxesImage at 0x7f4dcfd39540>"
      ]
     },
     "execution_count": 54,
     "metadata": {},
     "output_type": "execute_result"
    },
    {
     "data": {
      "image/png": "[encoded data removed]",
      "text/plain": [
       "<Figure size 640x480 with 1 Axes>"
      ]
     },
     "metadata": {},
     "output_type": "display_data"
    }
   ],
   "source": [
    "plt.imshow(data)"
   ]
  },
  {
   "cell_type": "code",
   "execution_count": null,
   "id": "92be392c",
   "metadata": {},
   "outputs": [],
   "source": []
  }
 ],
 "metadata": {
  "kernelspec": {
   "display_name": "Python 3 (ipykernel)",
   "language": "python",
   "name": "python3"
  },
  "language_info": {
   "codemirror_mode": {
    "name": "ipython",
    "version": 3
   },
   "file_extension": ".py",
   "mimetype": "text/x-python",
   "name": "python",
   "nbconvert_exporter": "python",
   "pygments_lexer": "ipython3",
   "version": "3.10.6"
  }
 },
 "nbformat": 4,
 "nbformat_minor": 5
}
