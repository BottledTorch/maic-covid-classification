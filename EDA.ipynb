{
 "cells": [
  {
   "cell_type": "code",
   "execution_count": null,
   "id": "fc3ffdca",
   "metadata": {},
   "outputs": [],
   "source": [
    "import numpy as np\n",
    "import pandas as pd\n",
    "import os\n",
    "import matplotlib.pyplot as plt\n",
    "import matplotlib.image as mpimg\n",
    "import cv2\n",
    "import imagesize"
   ]
  },
  {
   "cell_type": "code",
   "execution_count": null,
   "id": "eaf59be4",
   "metadata": {},
   "outputs": [],
   "source": [
    "# %pip install imagesize"
   ]
  },
  {
   "cell_type": "code",
   "execution_count": null,
   "id": "beda61a9",
   "metadata": {},
   "outputs": [],
   "source": [
    "df = pd.read_csv('test.txt', header=None)"
   ]
  },
  {
   "cell_type": "code",
   "execution_count": null,
   "id": "64d4db81",
   "metadata": {},
   "outputs": [],
   "source": [
    "df.tail()"
   ]
  },
  {
   "cell_type": "code",
   "execution_count": null,
   "id": "473c1801",
   "metadata": {},
   "outputs": [],
   "source": [
    "df = df[0].str.split(' ', expand=True)"
   ]
  },
  {
   "cell_type": "code",
   "execution_count": null,
   "id": "4d8716c1",
   "metadata": {},
   "outputs": [],
   "source": [
    "df.rename(columns={0: \"test_id\", 1: 'filename', 2: 'test_result', 3: 'data_source'}, inplace=True)"
   ]
  },
  {
   "cell_type": "code",
   "execution_count": null,
   "id": "0414a193",
   "metadata": {},
   "outputs": [],
   "source": [
    "df.head()"
   ]
  },
  {
   "cell_type": "code",
   "execution_count": null,
   "id": "7d4ec7be",
   "metadata": {},
   "outputs": [],
   "source": [
    "df.describe()"
   ]
  },
  {
   "cell_type": "code",
   "execution_count": null,
   "id": "029c73ee",
   "metadata": {},
   "outputs": [],
   "source": [
    "df['full_filepath'] = df.apply(lambda row: os.path.join('test', row.filename), axis=1)"
   ]
  },
  {
   "cell_type": "code",
   "execution_count": null,
   "id": "43b1b3bb",
   "metadata": {},
   "outputs": [],
   "source": [
    "df.head()"
   ]
  },
  {
   "cell_type": "code",
   "execution_count": null,
   "id": "79966df6",
   "metadata": {},
   "outputs": [],
   "source": [
    "imagesize.get(df['full_filepath'][0])"
   ]
  },
  {
   "cell_type": "code",
   "execution_count": null,
   "id": "de0e8090",
   "metadata": {},
   "outputs": [],
   "source": [
    "# width, height = imagesize.get(\"test.png\")"
   ]
  },
  {
   "cell_type": "code",
   "execution_count": null,
   "id": "647718c0",
   "metadata": {},
   "outputs": [],
   "source": [
    "df['x_shape'] = df.apply(lambda row: imagesize.get(row.full_filepath)[0], axis=1)\n",
    "df['y_shape'] = df.apply(lambda row: imagesize.get(row.full_filepath)[1], axis=1)"
   ]
  },
  {
   "cell_type": "code",
   "execution_count": null,
   "id": "1ab57841",
   "metadata": {},
   "outputs": [],
   "source": [
    "df.head()"
   ]
  },
  {
   "cell_type": "code",
   "execution_count": null,
   "id": "fb0391a9",
   "metadata": {},
   "outputs": [],
   "source": [
    "print(df['x_shape'].max())\n",
    "print(df['y_shape'].max())"
   ]
  },
  {
   "cell_type": "code",
   "execution_count": null,
   "id": "7dd30ae8",
   "metadata": {},
   "outputs": [],
   "source": [
    "df.describe()"
   ]
  },
  {
   "cell_type": "code",
   "execution_count": null,
   "id": "f38a4d5e",
   "metadata": {},
   "outputs": [],
   "source": [
    "plt.hist(df['x_shape'])"
   ]
  },
  {
   "cell_type": "code",
   "execution_count": null,
   "id": "0f1f9235",
   "metadata": {},
   "outputs": [],
   "source": [
    "plt.hist(df['y_shape'])"
   ]
  },
  {
   "cell_type": "code",
   "execution_count": null,
   "id": "4c56911a",
   "metadata": {},
   "outputs": [],
   "source": [
    "nan_count = df.isna().sum()\n",
    "print(nan_count)"
   ]
  },
  {
   "cell_type": "markdown",
   "id": "b389b8a3",
   "metadata": {},
   "source": [
    "### TorchXRayVision Testing"
   ]
  },
  {
   "cell_type": "code",
   "execution_count": null,
   "id": "90f7735d",
   "metadata": {},
   "outputs": [],
   "source": [
    "# !pip install torchxrayvision"
   ]
  },
  {
   "cell_type": "code",
   "execution_count": null,
   "id": "9df64c66",
   "metadata": {},
   "outputs": [],
   "source": [
    "import torchxrayvision as xrv\n",
    "import skimage, torch, torchvision\n"
   ]
  },
  {
   "cell_type": "code",
   "execution_count": null,
   "id": "ee5c60fe",
   "metadata": {},
   "outputs": [],
   "source": []
  },
  {
   "cell_type": "code",
   "execution_count": null,
   "id": "480acca8",
   "metadata": {},
   "outputs": [],
   "source": [
    "import numpy as np\n",
    "import skimage\n",
    "import torch\n",
    "import torchvision\n",
    "import matplotlib.pyplot as plt\n",
    "import torchxrayvision as xrv"
   ]
  },
  {
   "cell_type": "code",
   "execution_count": null,
   "id": "ee3d6841",
   "metadata": {},
   "outputs": [],
   "source": [
    "model = xrv.baseline_models.chestx_det.PSPNet()\n"
   ]
  },
  {
   "cell_type": "code",
   "execution_count": null,
   "id": "fc897b67",
   "metadata": {},
   "outputs": [],
   "source": [
    "model"
   ]
  },
  {
   "cell_type": "code",
   "execution_count": null,
   "id": "4368d93d",
   "metadata": {},
   "outputs": [],
   "source": [
    "# Read the image\n",
    "img_path = \"test/MIDRC-RICORD-1C-419639-003251-46647-0.png\"  # change this to your image path\n",
    "img = skimage.io.imread(img_path)\n",
    "\n",
    "# Normalize the image\n",
    "img = xrv.datasets.normalize(img, 255)\n",
    "\n",
    "# Check if the image is already 2D (grayscale), then add a new axis\n",
    "if img.ndim == 2:\n",
    "    img = img[None, ...]  # Add a new axis to make it 3D\n",
    "elif img.ndim == 3:\n",
    "    # Convert RGB to grayscale if it's not already grayscale\n",
    "    img = img.mean(2)[None, ...]  # Calculate the mean across the color channels\n",
    "\n",
    "transform = torchvision.transforms.Compose([xrv.datasets.XRayCenterCrop(),xrv.datasets.XRayResizer(512)])\n",
    "\n",
    "img = transform(img)\n",
    "img = torch.from_numpy(img)"
   ]
  },
  {
   "cell_type": "code",
   "execution_count": null,
   "id": "31fa84e8",
   "metadata": {},
   "outputs": [],
   "source": [
    "with torch.no_grad():\n",
    "    pred = model(img)"
   ]
  },
  {
   "cell_type": "code",
   "execution_count": null,
   "id": "e95af3ec",
   "metadata": {},
   "outputs": [],
   "source": [
    "plt.figure(figsize = (26,5))\n",
    "plt.subplot(1, len(model.targets) + 1, 1)\n",
    "plt.imshow(img[0], cmap='gray')\n",
    "for i in range(len(model.targets)):\n",
    "    plt.subplot(1, len(model.targets) + 1, i+2)\n",
    "    plt.imshow(pred[0, i])\n",
    "    plt.title(model.targets[i])\n",
    "    plt.axis('off')\n",
    "plt.tight_layout()"
   ]
  },
  {
   "cell_type": "code",
   "execution_count": null,
   "id": "6edaf5c6",
   "metadata": {},
   "outputs": [],
   "source": [
    "pred = 1 / (1 + np.exp(-pred))  # sigmoid\n",
    "pred[pred < 0.5] = 0\n",
    "pred[pred >= 0.5] = 1"
   ]
  },
  {
   "cell_type": "code",
   "execution_count": null,
   "id": "fbbedd20",
   "metadata": {},
   "outputs": [],
   "source": [
    "plt.figure(figsize = (26,5))\n",
    "plt.subplot(1, len(model.targets) + 1, 1)\n",
    "plt.imshow(img[0], cmap='gray')\n",
    "for i in range(len(model.targets)):\n",
    "    plt.subplot(1, len(model.targets) + 1, i+2)\n",
    "    plt.imshow(pred[0, i])\n",
    "/    plt.axis('off')\n",
    "plt.tight_layout()"
   ]
  },
  {
   "cell_type": "code",
   "execution_count": null,
   "id": "c2508e5b",
   "metadata": {},
   "outputs": [],
   "source": [
    "left_lung_index = model.targets.index('Left Lung')  # replace 'Left Lung' with the actual target name\n",
    "\n",
    "left_lung_pred = pred[0, left_lung_index]\n",
    "\n",
    "print(left_lung_pred)\n",
    "\n",
    "plt.imshow(pred[0, left_lung_index])"
   ]
  },
  {
   "cell_type": "code",
   "execution_count": null,
   "id": "3d43f9ee",
   "metadata": {},
   "outputs": [],
   "source": [
    "right_lung_index = model.targets.index('Right Lung')  # replace 'Left Lung' with the actual target name\n",
    "\n",
    "right_lung_pred = pred[0, right_lung_index]\n",
    "\n",
    "print(right_lung_pred)\n",
    "\n",
    "plt.imshow(pred[0, right_lung_index])"
   ]
  },
  {
   "cell_type": "code",
   "execution_count": null,
   "id": "b4ebe44c",
   "metadata": {},
   "outputs": [],
   "source": [
    "both_lung_pred = np.logical_or(pred[0,left_lung_index], pred[0,right_lung_index])\n",
    "plt.imshow(both_lung_pred)"
   ]
  },
  {
   "cell_type": "code",
   "execution_count": null,
   "id": "82c82447",
   "metadata": {},
   "outputs": [],
   "source": [
    "original=img[0]\n",
    "plt.imshow(img[0], cmap='gray')"
   ]
  },
  {
   "cell_type": "code",
   "execution_count": null,
   "id": "fda17a6b",
   "metadata": {},
   "outputs": [],
   "source": [
    "plt.imshow(original*both_lung_pred, cmap='gray')\n",
    "X = original*both_lung_pred\n",
    "X[275,200]"
   ]
  },
  {
   "cell_type": "code",
   "execution_count": null,
   "id": "8cb11202",
   "metadata": {},
   "outputs": [],
   "source": [
    "X.shape"
   ]
  },
  {
   "cell_type": "code",
   "execution_count": null,
   "id": "529d1e5a",
   "metadata": {},
   "outputs": [],
   "source": [
    "# Relates to the size of the lungs\n",
    "# if 1 in right_lung_pred[:, 0]:\n",
    "#     print('Lung pixel found')\n",
    "# len(right_lung_pred[0])\n",
    "# leftmost_pixel = -1\n",
    "# for i in range(len(right_lung_pred[0])):\n",
    "#     if 1 in right_lung_pred[:, 0]:\n",
    "#         print('Lung pixel found') \n",
    "#         leftmost_pixel = i\n",
    "        "
   ]
  },
  {
   "cell_type": "code",
   "execution_count": null,
   "id": "60916768",
   "metadata": {},
   "outputs": [],
   "source": []
  },
  {
   "cell_type": "code",
   "execution_count": null,
   "id": "c0cfb346",
   "metadata": {},
   "outputs": [],
   "source": [
    "x = np.load('etl_output/test/MIDRC-RICORD-1C-419639-000918-78965-0.npy')"
   ]
  },
  {
   "cell_type": "code",
   "execution_count": null,
   "id": "90562fca",
   "metadata": {},
   "outputs": [],
   "source": [
    "plt.imshow(x)"
   ]
  },
  {
   "cell_type": "code",
   "execution_count": null,
   "id": "134a3c02",
   "metadata": {},
   "outputs": [],
   "source": []
  }
 ],
 "metadata": {
  "kernelspec": {
   "display_name": "Python 3 (ipykernel)",
   "language": "python",
   "name": "python3"
  },
  "language_info": {
   "codemirror_mode": {
    "name": "ipython",
    "version": 3
   },
   "file_extension": ".py",
   "mimetype": "text/x-python",
   "name": "python",
   "nbconvert_exporter": "python",
   "pygments_lexer": "ipython3",
   "version": "3.10.6"
  }
 },
 "nbformat": 4,
 "nbformat_minor": 5
}
