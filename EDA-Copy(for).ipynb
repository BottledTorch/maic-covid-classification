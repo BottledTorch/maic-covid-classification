{
 "cells": [
  {
   "cell_type": "code",
   "execution_count": 2,
   "id": "fc3ffdca",
   "metadata": {},
   "outputs": [],
   "source": [
    "import numpy as np\n",
    "import pandas as pd\n",
    "import os\n",
    "import matplotlib.pyplot as plt\n",
    "import matplotlib.image as mpimg\n",
    "import cv2\n",
    "import imagesize"
   ]
  },
  {
   "cell_type": "code",
   "execution_count": 3,
   "id": "eaf59be4",
   "metadata": {},
   "outputs": [],
   "source": [
    "# %pip install imagesize"
   ]
  },
  {
   "cell_type": "code",
   "execution_count": 4,
   "id": "beda61a9",
   "metadata": {},
   "outputs": [],
   "source": [
    "df = pd.read_csv('test.txt', header=None)"
   ]
  },
  {
   "cell_type": "code",
   "execution_count": 5,
   "id": "64d4db81",
   "metadata": {},
   "outputs": [
    {
     "data": {
      "text/html": [
       "<div>\n",
       "<style scoped>\n",
       "    .dataframe tbody tr th:only-of-type {\n",
       "        vertical-align: middle;\n",
       "    }\n",
       "\n",
       "    .dataframe tbody tr th {\n",
       "        vertical-align: top;\n",
       "    }\n",
       "\n",
       "    .dataframe thead th {\n",
       "        text-align: right;\n",
       "    }\n",
       "</style>\n",
       "<table border=\"1\" class=\"dataframe\">\n",
       "  <thead>\n",
       "    <tr style=\"text-align: right;\">\n",
       "      <th></th>\n",
       "      <th>0</th>\n",
       "    </tr>\n",
       "  </thead>\n",
       "  <tbody>\n",
       "    <tr>\n",
       "      <th>8477</th>\n",
       "      <td>S24538 sub-S24538_ses-E50624_run-1_bp-chest_vp...</td>\n",
       "    </tr>\n",
       "    <tr>\n",
       "      <th>8478</th>\n",
       "      <td>S24539 sub-S24539_ses-E50625_run-1_bp-chest_vp...</td>\n",
       "    </tr>\n",
       "    <tr>\n",
       "      <th>8479</th>\n",
       "      <td>S24540 sub-S24540_ses-E50626_run-1_bp-chest_vp...</td>\n",
       "    </tr>\n",
       "    <tr>\n",
       "      <th>8480</th>\n",
       "      <td>S24540 sub-S24540_ses-E60362_run-1_bp-chest_vp...</td>\n",
       "    </tr>\n",
       "    <tr>\n",
       "      <th>8481</th>\n",
       "      <td>S24541 sub-S24541_ses-E50627_run-1_bp-chest_vp...</td>\n",
       "    </tr>\n",
       "  </tbody>\n",
       "</table>\n",
       "</div>"
      ],
      "text/plain": [
       "                                                      0\n",
       "8477  S24538 sub-S24538_ses-E50624_run-1_bp-chest_vp...\n",
       "8478  S24539 sub-S24539_ses-E50625_run-1_bp-chest_vp...\n",
       "8479  S24540 sub-S24540_ses-E50626_run-1_bp-chest_vp...\n",
       "8480  S24540 sub-S24540_ses-E60362_run-1_bp-chest_vp...\n",
       "8481  S24541 sub-S24541_ses-E50627_run-1_bp-chest_vp..."
      ]
     },
     "execution_count": 5,
     "metadata": {},
     "output_type": "execute_result"
    }
   ],
   "source": [
    "df.tail()"
   ]
  },
  {
   "cell_type": "code",
   "execution_count": 6,
   "id": "473c1801",
   "metadata": {},
   "outputs": [],
   "source": [
    "df = df[0].str.split(' ', expand=True)"
   ]
  },
  {
   "cell_type": "code",
   "execution_count": 7,
   "id": "4d8716c1",
   "metadata": {},
   "outputs": [],
   "source": [
    "df.rename(columns={0: \"test_id\", 1: 'filename', 2: 'test_result', 3: 'data_source'}, inplace=True)"
   ]
  },
  {
   "cell_type": "code",
   "execution_count": 8,
   "id": "0414a193",
   "metadata": {},
   "outputs": [
    {
     "data": {
      "text/html": [
       "<div>\n",
       "<style scoped>\n",
       "    .dataframe tbody tr th:only-of-type {\n",
       "        vertical-align: middle;\n",
       "    }\n",
       "\n",
       "    .dataframe tbody tr th {\n",
       "        vertical-align: top;\n",
       "    }\n",
       "\n",
       "    .dataframe thead th {\n",
       "        text-align: right;\n",
       "    }\n",
       "</style>\n",
       "<table border=\"1\" class=\"dataframe\">\n",
       "  <thead>\n",
       "    <tr style=\"text-align: right;\">\n",
       "      <th></th>\n",
       "      <th>test_id</th>\n",
       "      <th>filename</th>\n",
       "      <th>test_result</th>\n",
       "      <th>data_source</th>\n",
       "    </tr>\n",
       "  </thead>\n",
       "  <tbody>\n",
       "    <tr>\n",
       "      <th>0</th>\n",
       "      <td>419639-003251</td>\n",
       "      <td>MIDRC-RICORD-1C-419639-003251-46647-0.png</td>\n",
       "      <td>positive</td>\n",
       "      <td>ricord</td>\n",
       "    </tr>\n",
       "    <tr>\n",
       "      <th>1</th>\n",
       "      <td>419639-001464</td>\n",
       "      <td>MIDRC-RICORD-1C-419639-001464-39871-0.png</td>\n",
       "      <td>positive</td>\n",
       "      <td>ricord</td>\n",
       "    </tr>\n",
       "    <tr>\n",
       "      <th>2</th>\n",
       "      <td>419639-000918</td>\n",
       "      <td>MIDRC-RICORD-1C-419639-000918-78965-0.png</td>\n",
       "      <td>positive</td>\n",
       "      <td>ricord</td>\n",
       "    </tr>\n",
       "    <tr>\n",
       "      <th>3</th>\n",
       "      <td>419639-003318</td>\n",
       "      <td>MIDRC-RICORD-1C-419639-003318-64285-0.png</td>\n",
       "      <td>positive</td>\n",
       "      <td>ricord</td>\n",
       "    </tr>\n",
       "    <tr>\n",
       "      <th>4</th>\n",
       "      <td>419639-001015</td>\n",
       "      <td>MIDRC-RICORD-1C-419639-001015-81591-0.png</td>\n",
       "      <td>positive</td>\n",
       "      <td>ricord</td>\n",
       "    </tr>\n",
       "  </tbody>\n",
       "</table>\n",
       "</div>"
      ],
      "text/plain": [
       "         test_id                                   filename test_result  \\\n",
       "0  419639-003251  MIDRC-RICORD-1C-419639-003251-46647-0.png    positive   \n",
       "1  419639-001464  MIDRC-RICORD-1C-419639-001464-39871-0.png    positive   \n",
       "2  419639-000918  MIDRC-RICORD-1C-419639-000918-78965-0.png    positive   \n",
       "3  419639-003318  MIDRC-RICORD-1C-419639-003318-64285-0.png    positive   \n",
       "4  419639-001015  MIDRC-RICORD-1C-419639-001015-81591-0.png    positive   \n",
       "\n",
       "  data_source  \n",
       "0      ricord  \n",
       "1      ricord  \n",
       "2      ricord  \n",
       "3      ricord  \n",
       "4      ricord  "
      ]
     },
     "execution_count": 8,
     "metadata": {},
     "output_type": "execute_result"
    }
   ],
   "source": [
    "df.head()"
   ]
  },
  {
   "cell_type": "code",
   "execution_count": 9,
   "id": "7d4ec7be",
   "metadata": {},
   "outputs": [
    {
     "data": {
      "text/html": [
       "<div>\n",
       "<style scoped>\n",
       "    .dataframe tbody tr th:only-of-type {\n",
       "        vertical-align: middle;\n",
       "    }\n",
       "\n",
       "    .dataframe tbody tr th {\n",
       "        vertical-align: top;\n",
       "    }\n",
       "\n",
       "    .dataframe thead th {\n",
       "        text-align: right;\n",
       "    }\n",
       "</style>\n",
       "<table border=\"1\" class=\"dataframe\">\n",
       "  <thead>\n",
       "    <tr style=\"text-align: right;\">\n",
       "      <th></th>\n",
       "      <th>test_id</th>\n",
       "      <th>filename</th>\n",
       "      <th>test_result</th>\n",
       "      <th>data_source</th>\n",
       "    </tr>\n",
       "  </thead>\n",
       "  <tbody>\n",
       "    <tr>\n",
       "      <th>count</th>\n",
       "      <td>8482</td>\n",
       "      <td>8482</td>\n",
       "      <td>8482</td>\n",
       "      <td>8482</td>\n",
       "    </tr>\n",
       "    <tr>\n",
       "      <th>unique</th>\n",
       "      <td>4722</td>\n",
       "      <td>8482</td>\n",
       "      <td>2</td>\n",
       "      <td>3</td>\n",
       "    </tr>\n",
       "    <tr>\n",
       "      <th>top</th>\n",
       "      <td>S09382</td>\n",
       "      <td>MIDRC-RICORD-1C-419639-003251-46647-0.png</td>\n",
       "      <td>positive</td>\n",
       "      <td>bimcv</td>\n",
       "    </tr>\n",
       "    <tr>\n",
       "      <th>freq</th>\n",
       "      <td>38</td>\n",
       "      <td>1</td>\n",
       "      <td>4241</td>\n",
       "      <td>8082</td>\n",
       "    </tr>\n",
       "  </tbody>\n",
       "</table>\n",
       "</div>"
      ],
      "text/plain": [
       "       test_id                                   filename test_result  \\\n",
       "count     8482                                       8482        8482   \n",
       "unique    4722                                       8482           2   \n",
       "top     S09382  MIDRC-RICORD-1C-419639-003251-46647-0.png    positive   \n",
       "freq        38                                          1        4241   \n",
       "\n",
       "       data_source  \n",
       "count         8482  \n",
       "unique           3  \n",
       "top          bimcv  \n",
       "freq          8082  "
      ]
     },
     "execution_count": 9,
     "metadata": {},
     "output_type": "execute_result"
    }
   ],
   "source": [
    "df.describe()"
   ]
  },
  {
   "cell_type": "code",
   "execution_count": 10,
   "id": "029c73ee",
   "metadata": {},
   "outputs": [],
   "source": [
    "df['full_filepath'] = df.apply(lambda row: os.path.join('test', row.filename), axis=1)"
   ]
  },
  {
   "cell_type": "code",
   "execution_count": 11,
   "id": "43b1b3bb",
   "metadata": {},
   "outputs": [
    {
     "data": {
      "text/html": [
       "<div>\n",
       "<style scoped>\n",
       "    .dataframe tbody tr th:only-of-type {\n",
       "        vertical-align: middle;\n",
       "    }\n",
       "\n",
       "    .dataframe tbody tr th {\n",
       "        vertical-align: top;\n",
       "    }\n",
       "\n",
       "    .dataframe thead th {\n",
       "        text-align: right;\n",
       "    }\n",
       "</style>\n",
       "<table border=\"1\" class=\"dataframe\">\n",
       "  <thead>\n",
       "    <tr style=\"text-align: right;\">\n",
       "      <th></th>\n",
       "      <th>test_id</th>\n",
       "      <th>filename</th>\n",
       "      <th>test_result</th>\n",
       "      <th>data_source</th>\n",
       "      <th>full_filepath</th>\n",
       "    </tr>\n",
       "  </thead>\n",
       "  <tbody>\n",
       "    <tr>\n",
       "      <th>0</th>\n",
       "      <td>419639-003251</td>\n",
       "      <td>MIDRC-RICORD-1C-419639-003251-46647-0.png</td>\n",
       "      <td>positive</td>\n",
       "      <td>ricord</td>\n",
       "      <td>test/MIDRC-RICORD-1C-419639-003251-46647-0.png</td>\n",
       "    </tr>\n",
       "    <tr>\n",
       "      <th>1</th>\n",
       "      <td>419639-001464</td>\n",
       "      <td>MIDRC-RICORD-1C-419639-001464-39871-0.png</td>\n",
       "      <td>positive</td>\n",
       "      <td>ricord</td>\n",
       "      <td>test/MIDRC-RICORD-1C-419639-001464-39871-0.png</td>\n",
       "    </tr>\n",
       "    <tr>\n",
       "      <th>2</th>\n",
       "      <td>419639-000918</td>\n",
       "      <td>MIDRC-RICORD-1C-419639-000918-78965-0.png</td>\n",
       "      <td>positive</td>\n",
       "      <td>ricord</td>\n",
       "      <td>test/MIDRC-RICORD-1C-419639-000918-78965-0.png</td>\n",
       "    </tr>\n",
       "    <tr>\n",
       "      <th>3</th>\n",
       "      <td>419639-003318</td>\n",
       "      <td>MIDRC-RICORD-1C-419639-003318-64285-0.png</td>\n",
       "      <td>positive</td>\n",
       "      <td>ricord</td>\n",
       "      <td>test/MIDRC-RICORD-1C-419639-003318-64285-0.png</td>\n",
       "    </tr>\n",
       "    <tr>\n",
       "      <th>4</th>\n",
       "      <td>419639-001015</td>\n",
       "      <td>MIDRC-RICORD-1C-419639-001015-81591-0.png</td>\n",
       "      <td>positive</td>\n",
       "      <td>ricord</td>\n",
       "      <td>test/MIDRC-RICORD-1C-419639-001015-81591-0.png</td>\n",
       "    </tr>\n",
       "  </tbody>\n",
       "</table>\n",
       "</div>"
      ],
      "text/plain": [
       "         test_id                                   filename test_result  \\\n",
       "0  419639-003251  MIDRC-RICORD-1C-419639-003251-46647-0.png    positive   \n",
       "1  419639-001464  MIDRC-RICORD-1C-419639-001464-39871-0.png    positive   \n",
       "2  419639-000918  MIDRC-RICORD-1C-419639-000918-78965-0.png    positive   \n",
       "3  419639-003318  MIDRC-RICORD-1C-419639-003318-64285-0.png    positive   \n",
       "4  419639-001015  MIDRC-RICORD-1C-419639-001015-81591-0.png    positive   \n",
       "\n",
       "  data_source                                   full_filepath  \n",
       "0      ricord  test/MIDRC-RICORD-1C-419639-003251-46647-0.png  \n",
       "1      ricord  test/MIDRC-RICORD-1C-419639-001464-39871-0.png  \n",
       "2      ricord  test/MIDRC-RICORD-1C-419639-000918-78965-0.png  \n",
       "3      ricord  test/MIDRC-RICORD-1C-419639-003318-64285-0.png  \n",
       "4      ricord  test/MIDRC-RICORD-1C-419639-001015-81591-0.png  "
      ]
     },
     "execution_count": 11,
     "metadata": {},
     "output_type": "execute_result"
    }
   ],
   "source": [
    "df.head()"
   ]
  },
  {
   "cell_type": "code",
   "execution_count": 12,
   "id": "79966df6",
   "metadata": {},
   "outputs": [
    {
     "data": {
      "text/plain": [
       "(1024, 826)"
      ]
     },
     "execution_count": 12,
     "metadata": {},
     "output_type": "execute_result"
    }
   ],
   "source": [
    "imagesize.get(df['full_filepath'][0])"
   ]
  },
  {
   "cell_type": "code",
   "execution_count": null,
   "id": "de0e8090",
   "metadata": {},
   "outputs": [],
   "source": [
    "# width, height = imagesize.get(\"test.png\")"
   ]
  },
  {
   "cell_type": "code",
   "execution_count": 13,
   "id": "647718c0",
   "metadata": {},
   "outputs": [],
   "source": [
    "df['x_shape'] = df.apply(lambda row: imagesize.get(row.full_filepath)[0], axis=1)\n",
    "df['y_shape'] = df.apply(lambda row: imagesize.get(row.full_filepath)[1], axis=1)"
   ]
  },
  {
   "cell_type": "code",
   "execution_count": null,
   "id": "1ab57841",
   "metadata": {},
   "outputs": [],
   "source": [
    "df.head()"
   ]
  },
  {
   "cell_type": "code",
   "execution_count": null,
   "id": "7dd30ae8",
   "metadata": {},
   "outputs": [],
   "source": [
    "df.describe()"
   ]
  },
  {
   "cell_type": "code",
   "execution_count": null,
   "id": "f38a4d5e",
   "metadata": {},
   "outputs": [],
   "source": [
    "plt.hist(df['x_shape'])"
   ]
  },
  {
   "cell_type": "code",
   "execution_count": null,
   "id": "0f1f9235",
   "metadata": {},
   "outputs": [],
   "source": [
    "plt.hist(df['y_shape'])"
   ]
  },
  {
   "cell_type": "code",
   "execution_count": null,
   "id": "4c56911a",
   "metadata": {},
   "outputs": [],
   "source": [
    "nan_count = df.isna().sum()\n",
    "print(nan_count)"
   ]
  },
  {
   "cell_type": "markdown",
   "id": "b389b8a3",
   "metadata": {},
   "source": [
    "### TorchXRayVision Testing"
   ]
  },
  {
   "cell_type": "code",
   "execution_count": null,
   "id": "90f7735d",
   "metadata": {},
   "outputs": [],
   "source": [
    "# !pip install torchxrayvision"
   ]
  },
  {
   "cell_type": "code",
   "execution_count": null,
   "id": "9df64c66",
   "metadata": {},
   "outputs": [],
   "source": [
    "import torchxrayvision as xrv\n",
    "import skimage, torch, torchvision\n"
   ]
  },
  {
   "cell_type": "code",
   "execution_count": null,
   "id": "9e943409",
   "metadata": {},
   "outputs": [],
   "source": []
  },
  {
   "cell_type": "code",
   "execution_count": null,
   "id": "1ed3871a",
   "metadata": {},
   "outputs": [],
   "source": []
  },
  {
   "cell_type": "code",
   "execution_count": null,
   "id": "f6c6635d",
   "metadata": {},
   "outputs": [],
   "source": []
  },
  {
   "cell_type": "code",
   "execution_count": null,
   "id": "a1e55c01",
   "metadata": {},
   "outputs": [],
   "source": []
  },
  {
   "cell_type": "code",
   "execution_count": null,
   "id": "810a2497",
   "metadata": {},
   "outputs": [],
   "source": []
  },
  {
   "cell_type": "code",
   "execution_count": null,
   "id": "ee5c60fe",
   "metadata": {},
   "outputs": [],
   "source": []
  },
  {
   "cell_type": "code",
   "execution_count": null,
   "id": "480acca8",
   "metadata": {},
   "outputs": [],
   "source": [
    "import numpy as np\n",
    "import skimage\n",
    "import torch\n",
    "import torchvision\n",
    "import matplotlib.pyplot as plt\n",
    "import torchxrayvision as xrv"
   ]
  },
  {
   "cell_type": "code",
   "execution_count": null,
   "id": "ee3d6841",
   "metadata": {},
   "outputs": [],
   "source": [
    "model = xrv.baseline_models.chestx_det.PSPNet()\n"
   ]
  },
  {
   "cell_type": "code",
   "execution_count": null,
   "id": "fc897b67",
   "metadata": {},
   "outputs": [],
   "source": [
    "model"
   ]
  },
  {
   "cell_type": "code",
   "execution_count": null,
   "id": "4368d93d",
   "metadata": {},
   "outputs": [],
   "source": [
    "# Read the image\n",
    "img_path = \"test/MIDRC-RICORD-1C-419639-003251-46647-0.png\"  # change this to your image path\n",
    "img = skimage.io.imread(img_path)\n",
    "\n",
    "# Normalize the image\n",
    "img = xrv.datasets.normalize(img, 255)\n",
    "\n",
    "# Check if the image is already 2D (grayscale), then add a new axis\n",
    "if img.ndim == 2:\n",
    "    img = img[None, ...]  # Add a new axis to make it 3D\n",
    "elif img.ndim == 3:\n",
    "    # Convert RGB to grayscale if it's not already grayscale\n",
    "    img = img.mean(2)[None, ...]  # Calculate the mean across the color channels\n",
    "\n",
    "transform = torchvision.transforms.Compose([xrv.datasets.XRayCenterCrop(),xrv.datasets.XRayResizer(512)])\n",
    "\n",
    "img = transform(img)\n",
    "img = torch.from_numpy(img)"
   ]
  },
  {
   "cell_type": "code",
   "execution_count": null,
   "id": "31fa84e8",
   "metadata": {},
   "outputs": [],
   "source": [
    "with torch.no_grad():\n",
    "    pred = model(img)"
   ]
  },
  {
   "cell_type": "code",
   "execution_count": null,
   "id": "e95af3ec",
   "metadata": {},
   "outputs": [],
   "source": [
    "plt.figure(figsize = (26,5))\n",
    "plt.subplot(1, len(model.targets) + 1, 1)\n",
    "plt.imshow(img[0], cmap='gray')\n",
    "for i in range(len(model.targets)):\n",
    "    plt.subplot(1, len(model.targets) + 1, i+2)\n",
    "    plt.imshow(pred[0, i])\n",
    "    plt.title(model.targets[i])\n",
    "    plt.axis('off')\n",
    "plt.tight_layout()"
   ]
  },
  {
   "cell_type": "code",
   "execution_count": null,
   "id": "6edaf5c6",
   "metadata": {},
   "outputs": [],
   "source": [
    "pred = 1 / (1 + np.exp(-pred))  # sigmoid\n",
    "pred[pred < 0.5] = 0\n",
    "pred[pred > 0.5] = 1"
   ]
  },
  {
   "cell_type": "code",
   "execution_count": null,
   "id": "fbbedd20",
   "metadata": {},
   "outputs": [],
   "source": [
    "plt.figure(figsize = (26,5))\n",
    "plt.subplot(1, len(model.targets) + 1, 1)\n",
    "plt.imshow(img[0], cmap='gray')\n",
    "for i in range(len(model.targets)):\n",
    "    plt.subplot(1, len(model.targets) + 1, i+2)\n",
    "    plt.imshow(pred[0, i])\n",
    "    plt.title(model.targets[i])\n",
    "    plt.axis('off')\n",
    "plt.tight_layout()"
   ]
  },
  {
   "cell_type": "code",
   "execution_count": null,
   "id": "c2508e5b",
   "metadata": {},
   "outputs": [],
   "source": [
    "x_values = []\n",
    "y_values = []\n",
    "\n",
    "for i in range(len(right_lung_pred)):\n",
    "    for j in range(len(right_lung_pred[0])):\n",
    "        if right_lung_pred[i][j] == 1:\n",
    "            y_values.append([j])\n",
    "            x_values.append([i])"
   ]
  }
 ],
 "metadata": {
  "kernelspec": {
   "display_name": "Python 3 (ipykernel)",
   "language": "python",
   "name": "python3"
  },
  "language_info": {
   "codemirror_mode": {
    "name": "ipython",
    "version": 3
   },
   "file_extension": ".py",
   "mimetype": "text/x-python",
   "name": "python",
   "nbconvert_exporter": "python",
   "pygments_lexer": "ipython3",
   "version": "3.10.6"
  }
 },
 "nbformat": 4,
 "nbformat_minor": 5
}
